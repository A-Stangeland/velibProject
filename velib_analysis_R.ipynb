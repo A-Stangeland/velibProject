{
 "cells": [
  {
   "cell_type": "markdown",
   "id": "cordless-province",
   "metadata": {},
   "source": [
    "### Importing libraries"
   ]
  },
  {
   "cell_type": "code",
   "execution_count": null,
   "id": "supported-bookmark",
   "metadata": {},
   "outputs": [],
   "source": [
    "library(funFEM)\n",
    "library(tidyverse)\n",
    "library(ggmap)\n",
    "library(gridExtra)\n",
    "library(RColorBrewer)\n",
    "library(ggthemes)\n",
    "data(velib)"
   ]
  },
  {
   "cell_type": "markdown",
   "id": "hispanic-relaxation",
   "metadata": {},
   "source": [
    "### Preparing data"
   ]
  },
  {
   "cell_type": "code",
   "execution_count": null,
   "id": "choice-interval",
   "metadata": {},
   "outputs": [],
   "source": [
    "x <- as.matrix(velib$data)\n",
    "colnames(x) <- 1:ncol(x)\n",
    "rownames(x) <- velib$names\n",
    "\n",
    "bikes <- tibble(velib$data)\n",
    "bikes$long <- velib$position$longitude\n",
    "bikes$lat <- velib$position$latitude\n",
    "bikes$hill <- as.factor(velib$bonus)\n",
    "bikes$name <- velib$name\n",
    "\n",
    "fig <- function(width, heigth){\n",
    "     options(repr.plot.width = width, repr.plot.height = heigth)\n",
    "}\n",
    "\n",
    "name_func <- function(name) {\n",
    "    paste('T', as.numeric(substring(name, first=2))-13, sep='')\n",
    "}\n",
    "\n",
    "bikes <- bikes %>% \n",
    "    select(!V1:V13) %>%\n",
    "    rename_with(name_func, V14:V181)\n",
    "\n",
    "head(bikes)"
   ]
  },
  {
   "cell_type": "code",
   "execution_count": null,
   "id": "lightweight-xerox",
   "metadata": {},
   "outputs": [],
   "source": [
    "x <- as.matrix(velib$data)\n",
    "colnames(x) <- 1:ncol(x)\n",
    "rownames(x) <- velib$names\n",
    "n <- nrow(x)\n",
    "stations <- 1:n \n",
    "dates <- 14:181\n",
    "x <- x[stations, dates]\n",
    "colnames(x) <- 1:length(dates)"
   ]
  },
  {
   "cell_type": "markdown",
   "id": "catholic-registrar",
   "metadata": {},
   "source": [
    "### Descriptive statistics"
   ]
  },
  {
   "cell_type": "code",
   "execution_count": null,
   "id": "confident-probability",
   "metadata": {},
   "outputs": [],
   "source": [
    "days = c('Monday', 'Tuesday', 'Wednesday', 'Thursday', 'Friday', 'Saturday', 'Sunday')\n",
    "\n",
    "bikes_long <- bikes %>% pivot_longer(cols=T1:T168, names_to='time', values_to ='loading') %>% \n",
    "    mutate(time=as.numeric(substring(time, first=2))-1)\n",
    "\n",
    "bikes.load_by_day <- bikes_long %>% \n",
    "    mutate(day=factor(days[(time %/% 24) + 1], ordered = TRUE, levels=days)) %>%\n",
    "    mutate(hour=time %% 24) %>%\n",
    "    group_by(day, hour) %>%\n",
    "    summarise(mean_load=mean(loading)) %>%\n",
    "    mutate(usage=100*(1-mean_load))"
   ]
  },
  {
   "cell_type": "code",
   "execution_count": null,
   "id": "streaming-litigation",
   "metadata": {},
   "outputs": [],
   "source": [
    "options(repr.plot.width = 16, repr.plot.height = 8)\n",
    "daycolors <- c(brewer.pal(name='YlGn', 6)[-1], brewer.pal(name='Blues', 9)[c(5,8)])\n",
    "ggplot(bikes.load_by_day, aes(hour, usage, col=day)) + \n",
    "    geom_line() +\n",
    "    geom_point() +\n",
    "    scale_x_continuous(breaks = seq(0, 24, by=3)) +\n",
    "    #scale_y_continuous(limits = c(0.5,0.75)) +\n",
    "    scale_color_manual(labels=days, values=daycolors) +\n",
    "    #labs(title='Average loading by time of day', x='hour', y='average loading', color='Day')\n",
    "    labs(title='Average percentage of bikes in use by time and day', x='hour', y='usage', color='Day')"
   ]
  },
  {
   "cell_type": "code",
   "execution_count": null,
   "id": "successful-procedure",
   "metadata": {},
   "outputs": [],
   "source": [
    "bikes.load_by_hour <- bikes_long %>%\n",
    "    filter(time < 5*24) %>%\n",
    "    mutate(hour=time %% 24) %>%\n",
    "    group_by(hour, name) %>%\n",
    "    summarise(mean_load=mean(loading)) %>%\n",
    "    inner_join(bikes %>% select(name, long, lat), by='name')\n",
    "\n",
    "#bikes.load_by_hour <- bikes_long %>%\n",
    "#    filter(time < 24) %>%\n",
    "#    rename(mean_load = loading, hour=time)\n",
    "\n",
    "options(repr.plot.width = 16, repr.plot.height = 5)\n",
    "\n",
    "q1 <- qmplot(long, lat, data=bikes.load_by_hour %>% filter(hour==6), col=mean_load) +\n",
    "    scale_colour_gradient(low='white', high='red', limits=c(0,1)) +\n",
    "    labs(title='Average weekday loading at 6h') +\n",
    "    guides(color='none')\n",
    "\n",
    "q2 <- qmplot(long, lat, data=bikes.load_by_hour %>% filter(hour==12), col=mean_load) +\n",
    "    scale_colour_gradient(low='white', high='red', limits=c(0,1)) +\n",
    "    labs(title='Average weekday loading at 12h') +\n",
    "    guides(color='none')\n",
    "\n",
    "q3 <- qmplot(long, lat, data=bikes.load_by_hour %>% filter(hour==23), col=mean_load) +\n",
    "    scale_colour_gradient(low='white', high='red', limits=c(0,1)) +\n",
    "    labs(title='Average weekday loading at 23h') +\n",
    "    guides(color='none')\n",
    "\n",
    "grid.arrange(q1, q2, q3, ncol=3)"
   ]
  },
  {
   "cell_type": "markdown",
   "id": "collected-suite",
   "metadata": {},
   "source": [
    "### Principal component analysis"
   ]
  },
  {
   "cell_type": "code",
   "execution_count": null,
   "id": "parallel-recovery",
   "metadata": {},
   "outputs": [],
   "source": [
    "library(FactoMineR)\n",
    "library(factoextra)"
   ]
  },
  {
   "cell_type": "code",
   "execution_count": null,
   "id": "national-antigua",
   "metadata": {},
   "outputs": [],
   "source": [
    "num.pc <- 10\n",
    "res.pca <- PCA(bikes %>% select(T1:T168), ncp=num.pc)"
   ]
  },
  {
   "cell_type": "code",
   "execution_count": null,
   "id": "bright-administration",
   "metadata": {},
   "outputs": [],
   "source": [
    "fig(10,6)\n",
    "fviz_screeplot(res.pca, ncp=num.pc, addlabels=TRUE) + \n",
    "    scale_x_discrete(breaks=c(1:num.pc), labels=paste('PC', c(1:num.pc), sep='')) +\n",
    "    labs(x='', title='') +\n",
    "    theme_gray()"
   ]
  },
  {
   "cell_type": "code",
   "execution_count": null,
   "id": "accepted-display",
   "metadata": {},
   "outputs": [],
   "source": [
    "ggplot() + geom_bar(stat=\"identity\",aes(x=c(1:num.pc), y=res.pca$eig[1:num.pc,3]), fill='#4984B3') +\n",
    "    labs(x='', y='Percentage of variance', title='Cumulative percentage of variance') +\n",
    "    scale_x_continuous(breaks = c(1:num.pc), labels=paste('PC', c(1:num.pc), sep='')) + \n",
    "    annotate('segment', x=0, xend=num.pc+1, y=80, yend=80, col='red', linetype=2, size=0.7) +\n",
    "    coord_cartesian(xlim=c(0.5, num.pc+0.5))"
   ]
  },
  {
   "cell_type": "code",
   "execution_count": null,
   "id": "residential-constant",
   "metadata": {},
   "outputs": [],
   "source": [
    "day.labs <- rep('', 15)\n",
    "day.labs[2*c(1:7)] <- days\n",
    "plot_pc <- function(pc, i, label.days=FALSE) {\n",
    "    g <-ggplot() + geom_line(aes(c(0:167), pc[,i])) + labs(y='', title=sprintf('PC%d loading profile', i)) + \n",
    "        scale_y_continuous(name='', limits=c(-1, 1)) + \n",
    "        #scale_x_continuous(name='', limits=c(0, 168), breaks=12*c(0:14), labels=NULL) +\n",
    "        coord_cartesian(xlim=c(7, 161), ylim=c(-1,1)) +\n",
    "        annotate('rect', \n",
    "                 xmin = 24*c(0:6), xmax = 24*c(1:7), \n",
    "                 ymin = rep(-1,7), ymax = rep(1,7), \n",
    "                 fill = daycolors, alpha = .2)\n",
    "    if (label.days) {\n",
    "        g <- g + scale_x_continuous(name='', limits=c(0, 168), breaks=12*c(0:14), labels=day.labs)\n",
    "    } else {\n",
    "        g <- g + scale_x_continuous(name='', limits=c(0, 168), minor_breaks=6*c(0:28), breaks=NULL)\n",
    "    }\n",
    "    g\n",
    "}\n",
    "\n",
    "options(repr.plot.width = 12, repr.plot.height = 10)\n",
    "p1 <- plot_pc(res.pca$var$coord, 1)\n",
    "p2 <- plot_pc(res.pca$var$coord, 2)\n",
    "p3 <- plot_pc(res.pca$var$coord, 3)\n",
    "p4 <- plot_pc(res.pca$var$coord, 4)\n",
    "p5 <- plot_pc(res.pca$var$coord, 5)\n",
    "grid.arrange(p1,p2,p3,p4,p5, ncol=1)"
   ]
  },
  {
   "cell_type": "code",
   "execution_count": null,
   "id": "binding-lecture",
   "metadata": {},
   "outputs": [],
   "source": [
    "bikes.pca <- as_tibble(res.pca$ind$coord) %>%\n",
    "    select(num_range('Dim.', 1:5)) %>%\n",
    "    rename_at(vars(paste('Dim.', c(1:5), sep='')), ~ paste('PC', c(1:5), sep=''))\n",
    "\n",
    "bikes.pca <- bind_cols(bikes %>% select(name, long, lat, hill), bikes.pca)"
   ]
  },
  {
   "cell_type": "code",
   "execution_count": null,
   "id": "complicated-novel",
   "metadata": {},
   "outputs": [],
   "source": [
    "options(repr.plot.width = 10, repr.plot.height = 10)\n",
    "\n",
    "g <- ggplot(bikes.pca, aes(col=hill)) + \n",
    "    guides(color='none')\n",
    "\n",
    "p1 <- g + geom_point(aes(PC1, PC2)) +\n",
    "    labs(x='PC1', y='PC2')\n",
    "p2 <- g + geom_point(aes(PC1, PC3)) +\n",
    "    labs(x='', y='PC3')\n",
    "p3 <- g + geom_point(aes(PC2, PC3)) +\n",
    "    labs(x='PC2', y='')\n",
    "\n",
    "lay <- rbind(c(2,3),\n",
    "             c(1,NA))\n",
    "grid.arrange(p1, p2, p3, layout_matrix = lay)"
   ]
  },
  {
   "cell_type": "code",
   "execution_count": null,
   "id": "outer-direction",
   "metadata": {},
   "outputs": [],
   "source": [
    "color_grad <- scale_color_gradient2(\"Dim1\",low = \"blue\", mid=\"white\", high = \"red\", midpoint=0)\n",
    "\n",
    "t <- c(1:168)\n",
    "line.plot <- ggplot() + \n",
    "    scale_y_continuous(name='', labels=NULL, limits=c(-1, 1), breaks=c(-1,0,1), minor_breaks=seq(-1,1, by=.5))# +\n",
    "    #theme(plot.margin=unit(c(0,0,0,0), 'in'))\n",
    "\n",
    "p1 <- qmplot(long, lat, data=bikes.pca, col=PC1) +\n",
    "    color_grad + guides(color='none') + labs(title='PC1') +\n",
    "    theme(plot.margin=unit(c(0,0,0,0), 'in'))\n",
    "l1 <- line.plot + geom_line(aes(t, res.pca$var$coord[,1]))\n",
    "\n",
    "p2 <- qmplot(long, lat, data=bikes.pca, col=PC2) +\n",
    "    color_grad + guides(color='none') + labs(title='PC2')\n",
    "\n",
    "l2 <- line.plot + geom_line(aes(t, res.pca$var$coord[,2]))\n",
    "\n",
    "p3 <- qmplot(long, lat, data=bikes.pca, col=PC3) +\n",
    "    color_grad + guides(color='none') + labs(title='PC3')\n",
    "\n",
    "l3 <- line.plot + geom_line(aes(t, res.pca$var$coord[,3]))\n",
    "\n",
    "p4 <- qmplot(long, lat, data=bikes.pca, col=PC4) +\n",
    "    color_grad + guides(color='none') + labs(title='PC4')\n",
    "\n",
    "l4 <- line.plot + geom_line(aes(t, res.pca$var$coord[,4]))\n",
    "    \n",
    "#grid.arrange(p1, p2, p3, p4, nrow=2, ncol=2)\n",
    "layout1 <- rbind(c(1,1,3,3,5,5),\n",
    "                c(1,1,3,3,5,5),\n",
    "                c(2,2,4,4,6,6))\n",
    "\n",
    "layout2 <- rbind(c(1,1,3,3,5,5,7,7),\n",
    "                c(1,1,3,3,5,5,7,7),\n",
    "                c(2,2,4,4,6,6,8,8))\n",
    "\n",
    "layout3 <- rbind(c(1,1,3,3),\n",
    "                c(1,1,3,3),\n",
    "                c(2,2,4,4),\n",
    "                c(5,5,7,7),\n",
    "                c(5,5,7,7),\n",
    "                c(6,6,8,8))\n",
    "\n",
    "options(repr.plot.width = 16, repr.plot.height = 4)\n",
    "grid.arrange(p1, l1, p2, l2, p3, l3, p4, l4, layout_matrix=layout2)"
   ]
  },
  {
   "cell_type": "markdown",
   "id": "spectacular-consistency",
   "metadata": {},
   "source": [
    "### K-means clustering"
   ]
  },
  {
   "cell_type": "code",
   "execution_count": null,
   "id": "thick-easter",
   "metadata": {},
   "outputs": [],
   "source": [
    "fig(10,5)\n",
    "max_k <- 10\n",
    "loss <- vector(length=max_k)\n",
    "clust.data <- bikes.pca %>% select(PC1:PC5)\n",
    "for (k in 2:max_k) {\n",
    "    clust <- kmeans(clust.data, k)\n",
    "    loss[k] = clust$tot.withinss\n",
    "}\n",
    "loss[1] = clust$totss\n",
    "ggplot() + geom_bar(stat=\"identity\",aes(x=c(1:max_k), y=loss), fill='#4984B3') +\n",
    "    scale_x_continuous(breaks = c(1:max_k), name = 'Number of clusters') +\n",
    "    scale_y_continuous(breaks = seq(0, loss[1], length.out=5), \n",
    "                       labels = seq(0, 1, length.out=5), \n",
    "                       name = 'Within-class variance')\n",
    "    "
   ]
  },
  {
   "cell_type": "code",
   "execution_count": null,
   "id": "compact-rental",
   "metadata": {},
   "outputs": [],
   "source": [
    "set.seed(423)\n",
    "res.km5 <- kmeans(clust.data, 5, nstart=10)\n",
    "\n",
    "fig(10,6)\n",
    "#qmplot(long, lat, data=bikes.pca, col=as.factor(res.km5$cluster), source='stamen', maptype='toner', mapcolor='bw') +\n",
    "#    labs(color='Cluster')\n",
    "\n",
    "mapMargin <- 0.01\n",
    "lowerleftlon = min(bikes$long) - mapMargin\n",
    "lowerleftlat = min(bikes$lat) - mapMargin\n",
    "upperrightlon = max(bikes$long) + mapMargin\n",
    "upperrightlat = max(bikes$lat) + mapMargin\n",
    "myMap <- get_stamenmap(bbox=c(lowerleftlon, lowerleftlat, upperrightlon, upperrightlat), \n",
    "                       zoom=13,maptype='toner', color='bw')\n",
    "#?get_stamenmap\n",
    "ggmap(myMap)"
   ]
  },
  {
   "cell_type": "code",
   "execution_count": null,
   "id": "golden-receptor",
   "metadata": {},
   "outputs": [],
   "source": [
    "ggmap(myMap) + geom_point(aes(long, lat), data=bikes, col=res.km5$cluster)"
   ]
  },
  {
   "cell_type": "code",
   "execution_count": null,
   "id": "flush-humanity",
   "metadata": {},
   "outputs": [],
   "source": [
    "K <- 5\n",
    "p <- 5\n",
    "pca.var_coord <- as.matrix(res.pca$var$coord[,1:5])\n",
    "res.km5 <- kmeans(clust.data, 5, nstart=10)\n",
    "km5centers <- matrix(nrow = 168, ncol = 5)\n",
    "for (i in 1:5){\n",
    "    km5centers[, i] <- res.pca$call$centre +\n",
    "    res.pca$call$ecart.type * res.pca$var$coord[, 1:p] %*% (as.matrix(res.km5$centers[i, ], ncol = 1) / sqrt(res.pca$eig[1:p, 1])) # coord. in the orig. space\n",
    "}"
   ]
  },
  {
   "cell_type": "code",
   "execution_count": null,
   "id": "operating-notification",
   "metadata": {},
   "outputs": [],
   "source": [
    "day_lab <- rep('', 15)\n",
    "day_lab[2*c(1:7)] <- days\n",
    "plot_center <- function(centers, i) {\n",
    "    ggplot() + geom_line(aes(t, centers[,i])) + labs(y='', title=sprintf('Centroid %d loading profile', i)) + \n",
    "        scale_y_continuous(name='', limits=c(0, 1)) + \n",
    "        scale_x_continuous(name='', limits=c(0, 168), breaks=12*c(0:14), labels=day_lab) +\n",
    "        coord_cartesian(xlim=c(7, 161), ylim=c(0,1)) +\n",
    "        annotate('rect', xmin = 24*c(0:6), xmax = 24*c(1:7), ymin = rep(0,7), ymax = rep(1,7), \n",
    "                 fill=daycolors, alpha = .2)\n",
    "        \n",
    "}\n",
    "\n",
    "options(repr.plot.width = 12, repr.plot.height = 10)\n",
    "p1 <- plot_center(km5centers, 1)\n",
    "p2 <- plot_center(km5centers, 2)\n",
    "p3 <- plot_center(km5centers, 3)\n",
    "p4 <- plot_center(km5centers, 4)\n",
    "p5 <- plot_center(km5centers, 5)\n",
    "grid.arrange(p1,p2,p3,p4,p5, ncol=1)"
   ]
  },
  {
   "cell_type": "code",
   "execution_count": null,
   "id": "applicable-terrain",
   "metadata": {},
   "outputs": [],
   "source": [
    "K <- 6\n",
    "p <- 5\n",
    "pca.var_coord <- as.matrix(res.pca$var$coord[,1:5])\n",
    "res.km <- kmeans(clust.data, K, nstart=10)\n",
    "kmcenters <- matrix(nrow = 168, ncol = K)\n",
    "for (i in 1:K){\n",
    "    kmcenters[, i] <- res.pca$call$centre +\n",
    "    res.pca$call$ecart.type * res.pca$var$coord[, 1:p] %*% (as.matrix(res.km$centers[i, ], ncol = 1) / sqrt(res.pca$eig[1:p, 1])) # coord. in the orig. space\n",
    "}\n",
    "\n",
    "fig(12,10)\n",
    "p1 <- plot_center(kmcenters, 1)\n",
    "p2 <- plot_center(kmcenters, 2)\n",
    "p3 <- plot_center(kmcenters, 3)\n",
    "p4 <- plot_center(kmcenters, 4)\n",
    "p5 <- plot_center(kmcenters, 5)\n",
    "p6 <- plot_center(kmcenters, 6)\n",
    "grid.arrange(p1,p2,p3,p4,p5,p6, ncol=1)"
   ]
  },
  {
   "cell_type": "code",
   "execution_count": null,
   "id": "floppy-conclusion",
   "metadata": {},
   "outputs": [],
   "source": [
    "set.seed(423)\n",
    "km.full <- kmeans(bikes %>% select(T1:T168), 6, nstart=10)\n",
    "km.full$centers <- km.full$centers[c(5,4,2,6,1,3),]\n",
    "#km.full$cluster <- as.factor(km.full$cluster)\n",
    "#levels(km.full$cluster) <- list('1'='5', '2'='4', '3'='2', '4'='6', '5'='1', '6'='3')\n",
    "km.full$cluster <- factor(km.full$cluster, levels=c(1:6), labels=c('5','4','2','6','1','3'))"
   ]
  },
  {
   "cell_type": "code",
   "execution_count": null,
   "id": "present-falls",
   "metadata": {
    "scrolled": true
   },
   "outputs": [],
   "source": [
    "fig(10,5)\n",
    "qmplot(long, lat, data=bikes, col=as.factor(km.full$cluster)) + geom_point(size=3)"
   ]
  },
  {
   "cell_type": "code",
   "execution_count": null,
   "id": "stupid-retention",
   "metadata": {},
   "outputs": [],
   "source": [
    "compare_full_v_pca <- function(centers.full, centers.pca, i) {\n",
    "    ggplot() + geom_line(aes(t, centers.full[i,])) + labs(y='') +\n",
    "        geom_line(aes(t, centers.pca[,i]), color='red') + \n",
    "        scale_y_continuous(name='', limits=c(0, 1)) + \n",
    "        scale_x_continuous(name='', limits=c(0, 168), breaks=12*c(0:14), labels=day_lab) +\n",
    "        coord_cartesian(xlim=c(7, 161), ylim=c(0,1)) +\n",
    "        annotate('rect', xmin = 24*c(0:6), xmax = 24*c(1:7), ymin = rep(0,7), ymax = rep(1,7), \n",
    "                 fill=daycolors, alpha = .2)\n",
    "        \n",
    "}\n",
    "\n",
    "fig(12,10)\n",
    "p1 <- compare_full_v_pca(km.full$centers, kmcenters, 1)\n",
    "p2 <- compare_full_v_pca(km.full$centers, kmcenters, 2)\n",
    "p3 <- compare_full_v_pca(km.full$centers, kmcenters, 3)\n",
    "p4 <- compare_full_v_pca(km.full$centers, kmcenters, 4)\n",
    "p5 <- compare_full_v_pca(km.full$centers, kmcenters, 5)\n",
    "p6 <- compare_full_v_pca(km.full$centers, kmcenters, 6)\n",
    "grid.arrange(p1,p2,p3,p4,p5,p6, ncol=1)\n",
    "#km.full$centers[1,]"
   ]
  },
  {
   "cell_type": "code",
   "execution_count": null,
   "id": "intelligent-vietnamese",
   "metadata": {},
   "outputs": [],
   "source": [
    "confusionMatrix(reference=as.factor(res.km$cluster), \n",
    "                data=as.factor(km.full$cluster), \n",
    "                positive=NULL, dnn=c('PCA clustering', 'Raw data clustering'))"
   ]
  },
  {
   "cell_type": "code",
   "execution_count": null,
   "id": "running-vault",
   "metadata": {},
   "outputs": [],
   "source": [
    "fig(12,12)\n",
    "\n",
    "plotPCAclustering <- function(pca.data, clusters, ...) {\n",
    "    g <- ggplot(pca.data, aes(col=as.factor(clusters))) +\n",
    "        guides(color='none') +\n",
    "        scale_x_continuous(position='top')\n",
    "\n",
    "    p12 <- g + geom_point(aes(PC1, PC2), ...) +\n",
    "        labs(x='PC1', y='PC2')\n",
    "    p13 <- g + geom_point(aes(PC1, PC3), ...) +\n",
    "        labs(x='', y='PC3')\n",
    "    p14 <- g + geom_point(aes(PC1, PC4), ...) +\n",
    "        labs(x='', y='PC4')\n",
    "    p23 <- g + geom_point(aes(PC2, PC3), ...) +\n",
    "        labs(x='PC2', y='')\n",
    "    p24 <- g + geom_point(aes(PC2, PC4), ...) +\n",
    "        labs(x='', y='')\n",
    "    p34 <- g + geom_point(aes(PC3, PC4), ...) +\n",
    "        labs(x='PC3', y='')\n",
    "    \n",
    "    lay <- rbind(c(1,NA,NA),\n",
    "                 c(2, 4,NA),\n",
    "                 c(3, 5, 6))\n",
    "    grid.arrange(p12, p13, p14, p23, p24, p34, layout_matrix = lay)\n",
    "}"
   ]
  },
  {
   "cell_type": "code",
   "execution_count": null,
   "id": "fourth-capital",
   "metadata": {},
   "outputs": [],
   "source": [
    "fig(10,10)\n",
    "plotPCAclustering(bikes.pca, res.km$cluster)"
   ]
  },
  {
   "cell_type": "markdown",
   "id": "widespread-diagram",
   "metadata": {},
   "source": [
    "### Herarchical clustering"
   ]
  },
  {
   "cell_type": "code",
   "execution_count": null,
   "id": "surface-civilian",
   "metadata": {},
   "outputs": [],
   "source": [
    "D <- dist(bikes.pca %>% select(PC1:PC5))\n",
    "bikes.hc <- hclust(D, 'ward.D2')"
   ]
  },
  {
   "cell_type": "code",
   "execution_count": null,
   "id": "furnished-queen",
   "metadata": {},
   "outputs": [],
   "source": [
    "hc.clusters <- cutree(bikes.hc, 4)\n",
    "plotPCAclustering(bikes.pca, hc.clusters)"
   ]
  },
  {
   "cell_type": "markdown",
   "id": "working-consolidation",
   "metadata": {},
   "source": [
    "### Gaussian mixture model"
   ]
  },
  {
   "cell_type": "code",
   "execution_count": null,
   "id": "parallel-muscle",
   "metadata": {},
   "outputs": [],
   "source": [
    "library(mclust)"
   ]
  },
  {
   "cell_type": "code",
   "execution_count": null,
   "id": "controlled-andrew",
   "metadata": {},
   "outputs": [],
   "source": [
    "mod.gm = Mclust(bikes.pca %>% select(PC1:PC5), G=6, model='VVV')\n",
    "summary(mod.gm)"
   ]
  },
  {
   "cell_type": "code",
   "execution_count": null,
   "id": "inner-twins",
   "metadata": {},
   "outputs": [],
   "source": [
    "fig(10,10)\n",
    "plotPCAclustering(bikes.pca, mod.gm$classification)"
   ]
  },
  {
   "cell_type": "code",
   "execution_count": null,
   "id": "confident-saturday",
   "metadata": {},
   "outputs": [],
   "source": [
    "mod.gm4 = Mclust(bikes.pca %>% select(PC1:PC5), G=4, model='VVV')\n",
    "plot(mod.gm4, what='density')"
   ]
  },
  {
   "cell_type": "code",
   "execution_count": null,
   "id": "neural-moderator",
   "metadata": {},
   "outputs": [],
   "source": [
    "K <- 4\n",
    "p <- 5\n",
    "pca.var_coord <- as.matrix(res.pca$var$coord[,1:5])\n",
    "res.gmm <- Mclust(bikes.pca %>% select(PC1:PC5), G=K, model='VVV')\n",
    "centers <- matrix(nrow = 168, ncol = K)\n",
    "for (i in 1:K){\n",
    "    centers[, i] <- res.pca$call$centre +\n",
    "    res.pca$call$ecart.type * res.pca$var$coord[, 1:p] %*% (as.matrix(res.gmm$parameters$mean[,i], ncol = 1) / sqrt(res.pca$eig[1:p, 1])) # coord. in the orig. space\n",
    "}\n",
    "\n",
    "options(repr.plot.width = 12, repr.plot.height = 10)\n",
    "p1 <- plot_center(centers, 1)\n",
    "p2 <- plot_center(centers, 2)\n",
    "p3 <- plot_center(centers, 3)\n",
    "p4 <- plot_center(centers, 4)\n",
    "#p5 <- plot_center(centers, 5)\n",
    "#p6 <- plot_center(centers, 6)\n",
    "grid.arrange(p1,p2,p3,p4, ncol=1)"
   ]
  }
 ],
 "metadata": {
  "kernelspec": {
   "display_name": "R",
   "language": "R",
   "name": "ir"
  },
  "language_info": {
   "codemirror_mode": "r",
   "file_extension": ".r",
   "mimetype": "text/x-r-source",
   "name": "R",
   "pygments_lexer": "r",
   "version": "4.0.3"
  }
 },
 "nbformat": 4,
 "nbformat_minor": 5
}
