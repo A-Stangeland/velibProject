{
 "cells": [
  {
   "cell_type": "code",
   "execution_count": null,
   "id": "located-threat",
   "metadata": {},
   "outputs": [],
   "source": [
    "import numpy as np\n",
    "import pandas as pd\n",
    "import matplotlib.pyplot as plt\n",
    "import folium\n",
    "from folium.plugins import HeatMap, HeatMapWithTime"
   ]
  },
  {
   "cell_type": "code",
   "execution_count": null,
   "id": "proved-listening",
   "metadata": {},
   "outputs": [],
   "source": [
    "def date_to_time(date):\n",
    "    day_to_h = {'Lun':0,'Mar':24,'Mer':2*24,'Jeu':3*24,'Ven':4*24,'Sam':5*24,'Dim':6*24}\n",
    "    day = date[:3]\n",
    "    hour = int(date[-2:])\n",
    "    return day_to_h[day] + hour"
   ]
  },
  {
   "cell_type": "code",
   "execution_count": null,
   "id": "sound-darkness",
   "metadata": {},
   "outputs": [],
   "source": [
    "velib = pd.read_csv('velibLoading.csv', sep=' ')\n",
    "velibAdds = pd.read_csv('velibAdds.csv', sep=' ')\n",
    "velib['long'] = velibAdds['longitude']\n",
    "velib['lat'] = velibAdds['latitude']\n",
    "velib['bonus'] = velibAdds['bonus']\n",
    "velib['name'] = velibAdds['names']\n",
    "\n",
    "days = ('Monday', 'Tuesday', 'Wednesday', 'Thursday', 'Friday', 'Saturday', 'Sunday')\n",
    "velib_long = velib.melt(id_vars=['long','lat','bonus','name'], var_name='time', value_name='load')#.groupby('name').mean()\n",
    "\n",
    "#velib_long['time'] = velib_long['time'].apply(date_to_time)\n",
    "#velib_long\n",
    "data = []\n",
    "for _, d in velib_long.groupby('time'):\n",
    "   data.append([[row['lat'], row['long'], row['load']] for _, row in d.iterrows()])"
   ]
  },
  {
   "cell_type": "code",
   "execution_count": null,
   "id": "earlier-pittsburgh",
   "metadata": {},
   "outputs": [],
   "source": [
    "init_lat = velib_long['lat'].median() #(velib_long['lat'].max() + velib_long['lat'].min()) / 2\n",
    "init_long = velib_long['long'].median() #(velib_long['long'].max() + velib_long['long'].min()) / 2\n",
    "\n",
    "m = folium.Map(location=[init_lat, init_long], zoom_start=12)\n",
    "hm = HeatMapWithTime(data, radius=15)\n",
    "hm.add_to(m)\n",
    "m"
   ]
  },
  {
   "cell_type": "code",
   "execution_count": null,
   "id": "incorporated-mount",
   "metadata": {},
   "outputs": [],
   "source": [
    "velib_long"
   ]
  }
 ],
 "metadata": {
  "kernelspec": {
   "display_name": "Python 3",
   "language": "python",
   "name": "python3"
  },
  "language_info": {
   "codemirror_mode": {
    "name": "ipython",
    "version": 3
   },
   "file_extension": ".py",
   "mimetype": "text/x-python",
   "name": "python",
   "nbconvert_exporter": "python",
   "pygments_lexer": "ipython3",
   "version": "3.8.7"
  }
 },
 "nbformat": 4,
 "nbformat_minor": 5
}
